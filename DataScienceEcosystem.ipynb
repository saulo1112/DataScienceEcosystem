{
 "cells": [
  {
   "cell_type": "markdown",
   "id": "4098ca5a",
   "metadata": {},
   "source": [
    "# Data Science Tools and Ecosystem"
   ]
  },
  {
   "cell_type": "markdown",
   "id": "bcdf1473",
   "metadata": {},
   "source": [
    "In this notebook, Data Science Tools and Ecosystem are summarized."
   ]
  },
  {
   "cell_type": "markdown",
   "id": "2775bb7f",
   "metadata": {},
   "source": [
    "**Some of the popular languages that Data Scientists use are:**"
   ]
  },
  {
   "cell_type": "markdown",
   "id": "3eddad00",
   "metadata": {},
   "source": [
    "1. Python.\n",
    "2. R.\n",
    "3. SQL.\n",
    "4. Scala.\n",
    "5. Java.\n",
    "6. C++\n",
    "7. Julia."
   ]
  },
  {
   "cell_type": "markdown",
   "id": "5e588e7c",
   "metadata": {},
   "source": [
    "**Some of the commonly used libraries used by Data Scientists include:**"
   ]
  },
  {
   "cell_type": "markdown",
   "id": "18a83736",
   "metadata": {},
   "source": [
    "1. Pandas (Data structures & tools - Python).\n",
    "2. NumPy (Arrays & matrices - Python).\n",
    "3. Matplotlib (plots & graphs - Python).\n",
    "4. Seaborn (Heat maps, times series, violin plots - Python).\n",
    "5. Scikit-learn (Machine learning - Python).\n",
    "6. TensorFlow (Deep learning - Python).\n",
    "7. PyTorch (Deep learning: regression, classification - Python).\n",
    "8. ggplot2 (Data visualization - R)."
   ]
  },
  {
   "cell_type": "markdown",
   "id": "df45bb2e",
   "metadata": {},
   "source": [
    "|Data Science Tools|\n",
    "|----|\n",
    "|MySQL|\n",
    "|Apache AirFlow|\n",
    "|Pixie Dust|"
   ]
  },
  {
   "cell_type": "markdown",
   "id": "ac856b2a",
   "metadata": {},
   "source": [
    "### Below are a few examples of evaluating arithmetic expressions in Python."
   ]
  },
  {
   "cell_type": "code",
   "execution_count": 8,
   "id": "c1585f8a",
   "metadata": {},
   "outputs": [
    {
     "data": {
      "text/plain": [
       "17"
      ]
     },
     "execution_count": 8,
     "metadata": {},
     "output_type": "execute_result"
    }
   ],
   "source": [
    "#This a simple arithmetic expression to mutiply then add integers:\n",
    "\n",
    "(3*4)+5"
   ]
  },
  {
   "cell_type": "code",
   "execution_count": 7,
   "id": "36794638",
   "metadata": {},
   "outputs": [
    {
     "data": {
      "text/plain": [
       "3.3333333333333335"
      ]
     },
     "execution_count": 7,
     "metadata": {},
     "output_type": "execute_result"
    }
   ],
   "source": [
    "#This will convert 200 minutes to hours by diving by 6.\n",
    "\n",
    "200/60"
   ]
  },
  {
   "cell_type": "markdown",
   "id": "1cd5f686",
   "metadata": {},
   "source": [
    "**Objetives**"
   ]
  },
  {
   "cell_type": "markdown",
   "id": "57824de5",
   "metadata": {},
   "source": [
    "- List popular languages for Data Science.\n",
    "- List popular libraries Data Scientists use.\n",
    "- List the most commonly used libraries utilized by Data Scientists.\n",
    "- Use markdowns in jupyter notebooks.\n",
    "- Evaluate basic arithmetic expressions."
   ]
  },
  {
   "cell_type": "markdown",
   "id": "9b3e6089",
   "metadata": {},
   "source": [
    "## Author:\n",
    "Saulo Alfredo Quiñones Góngora."
   ]
  },
  {
   "cell_type": "code",
   "execution_count": null,
   "id": "28df944c",
   "metadata": {},
   "outputs": [],
   "source": []
  }
 ],
 "metadata": {
  "kernelspec": {
   "display_name": "Python 3 (ipykernel)",
   "language": "python",
   "name": "python3"
  },
  "language_info": {
   "codemirror_mode": {
    "name": "ipython",
    "version": 3
   },
   "file_extension": ".py",
   "mimetype": "text/x-python",
   "name": "python",
   "nbconvert_exporter": "python",
   "pygments_lexer": "ipython3",
   "version": "3.11.5"
  }
 },
 "nbformat": 4,
 "nbformat_minor": 5
}
